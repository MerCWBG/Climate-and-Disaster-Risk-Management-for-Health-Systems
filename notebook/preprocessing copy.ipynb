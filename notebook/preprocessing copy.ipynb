{
 "cells": [
  {
   "cell_type": "code",
   "execution_count": 1,
   "metadata": {},
   "outputs": [],
   "source": [
    "import os\n",
    "import sys\n",
    "base_directory = \"/Users/johnbarrera/Documents/Projects/world_bank/Climate-and-Disaster-Risk-Management-for-Health-Systems/\"\n",
    "sys.path.append(f\"{base_directory}\")"
   ]
  },
  {
   "cell_type": "code",
   "execution_count": 2,
   "metadata": {},
   "outputs": [],
   "source": [
    "from src.utils.config_reader import ConfigReader, Logger\n",
    "from src.utils.utils import GeoDataFrameOperations\n",
    "from src.utils.file_pocessor import FileLister, FileProcessor"
   ]
  },
  {
   "cell_type": "code",
   "execution_count": 3,
   "metadata": {},
   "outputs": [],
   "source": [
    "# Create an instance of the Logger\n",
    "log_directory = \"/Users/johnbarrera/Documents/Projects/world_bank/Climate-and-Disaster-Risk-Management-for-Health-Systems/data/nepal/outputs/log\"\n",
    "log_file_name = \"preprocessing\"\n",
    "logger = Logger(log_directory, log_file_name)"
   ]
  },
  {
   "cell_type": "code",
   "execution_count": 7,
   "metadata": {},
   "outputs": [
    {
     "name": "stdout",
     "output_type": "stream",
     "text": [
      "INFO: Content of /Users/johnbarrera/Documents/Projects/world_bank/Climate-and-Disaster-Risk-Management-for-Health-Systems/config/nepal/data_setup.yaml file successfully read\n"
     ]
    }
   ],
   "source": [
    "# Readding the configuration file to the preprocessing\n",
    "config_file_path = \"config/nepal/data_setup.yaml\"\n",
    "config_file_path = f\"{base_directory}{config_file_path}\"\n",
    "\n",
    "try:\n",
    "    config_data = ConfigReader.read_yaml_file(config_file_path)\n",
    "    # config_data = config_data['preprocessing']\n",
    "    txt_msg = \"Content of {} file successfully read\".format(config_file_path)\n",
    "    logger.info(txt_msg)\n",
    "except Exception as e:\n",
    "    txt_msg = f\"Error reading configuration file: {str(e)}\"\n",
    "    logger.error(txt_msg)"
   ]
  },
  {
   "cell_type": "code",
   "execution_count": null,
   "metadata": {},
   "outputs": [],
   "source": []
  },
  {
   "cell_type": "code",
   "execution_count": null,
   "metadata": {},
   "outputs": [],
   "source": []
  },
  {
   "cell_type": "code",
   "execution_count": 27,
   "metadata": {},
   "outputs": [
    {
     "name": "stdout",
     "output_type": "stream",
     "text": [
      "ERROR: 'Item hazards not found in config_data list'\n",
      "ERROR: Error: Unexpected task 'preprocessing' found in config data\n"
     ]
    }
   ],
   "source": [
    "# Identifying modules for preprocessing\n",
    "items_preprocessing = ['hazards', 'infrastructures', 'population']\n",
    "hazards_task = None\n",
    "infrastructures_task = None\n",
    "population_task = None\n",
    "\n",
    "items_config_data = [task for task in config_data]\n",
    "try:\n",
    "    for item in items_preprocessing:\n",
    "        if item not in items_config_data:\n",
    "            raise ValueError(f\"Item {item} not found in config_data list\")\n",
    "    txt_msg = f\"All elements are present in config_data list: {str(items_config_data)}\"\n",
    "    logger.info(txt_msg)\n",
    "except ValueError as e:\n",
    "    txt_msg = f\"'{e}'\"\n",
    "    logger.error(txt_msg)\n",
    "    \n",
    "\n",
    "try:\n",
    "    for task in items_config_data:\n",
    "        if task == \"hazards\":\n",
    "            hazards_task = config_data[task]\n",
    "        elif task == \"infrastructures\":\n",
    "            infrastructures_task = config_data[task]\n",
    "        # elif task == \"population\":\n",
    "        #     population_task = config_data[task]\n",
    "        else:\n",
    "            raise ValueError(f\"Unexpected task '{task}' found in config data\")\n",
    "    txt_msg = f\"Tasks successfully extracted from config data\"\n",
    "    logger.info(txt_msg)\n",
    "except KeyError as e:\n",
    "    txt_msg = f\"Error: '{e}' not found in config data\"\n",
    "    logger.error(txt_msg)\n",
    "except ValueError as e:\n",
    "    txt_msg = f\"Error: {e}\"\n",
    "    logger.error(txt_msg)\n",
    "except Exception as e:\n",
    "    txt_msg = f\"An unexpected error occurred: {str(e)}\"\n",
    "    logger.error(txt_msg)\n"
   ]
  },
  {
   "cell_type": "code",
   "execution_count": 6,
   "metadata": {},
   "outputs": [],
   "source": [
    "# Write different types of messages to the log file\n",
    "# logger.info('Information message')\n",
    "# logger.warning('Warning message')\n",
    "# logger.error('Error message')\n",
    "# logger.critical('Critical message')\n",
    "# logger.debug('Debug message')\n"
   ]
  },
  {
   "cell_type": "code",
   "execution_count": 7,
   "metadata": {},
   "outputs": [
    {
     "name": "stdout",
     "output_type": "stream",
     "text": [
      "All periods files found\n",
      "Processing period 475: pga_2475.tif\n",
      "/Users/johnbarrera/Documents/Projects/world_bank/Climate-and-Disaster-Risk-Management-for-Health-Systems/data/nepal/inputs/hazards/Global_earthquake_hazard_WB/pga_2475.tif\n"
     ]
    },
    {
     "name": "stderr",
     "output_type": "stream",
     "text": [
      "100%|██████████| 361/361 [00:01<00:00, 239.28it/s]\n"
     ]
    },
    {
     "name": "stdout",
     "output_type": "stream",
     "text": [
      "Processing period 975: pga_975.tif\n",
      "/Users/johnbarrera/Documents/Projects/world_bank/Climate-and-Disaster-Risk-Management-for-Health-Systems/data/nepal/inputs/hazards/Global_earthquake_hazard_WB/pga_975.tif\n"
     ]
    },
    {
     "name": "stderr",
     "output_type": "stream",
     "text": [
      "100%|██████████| 361/361 [00:01<00:00, 243.21it/s]\n"
     ]
    },
    {
     "name": "stdout",
     "output_type": "stream",
     "text": [
      "Processing period 1500: pga_1500.tif\n",
      "/Users/johnbarrera/Documents/Projects/world_bank/Climate-and-Disaster-Risk-Management-for-Health-Systems/data/nepal/inputs/hazards/Global_earthquake_hazard_WB/pga_1500.tif\n"
     ]
    },
    {
     "name": "stderr",
     "output_type": "stream",
     "text": [
      "100%|██████████| 361/361 [00:01<00:00, 226.51it/s]\n"
     ]
    },
    {
     "name": "stdout",
     "output_type": "stream",
     "text": [
      "Processing period 2475: pga_2475.tif\n",
      "/Users/johnbarrera/Documents/Projects/world_bank/Climate-and-Disaster-Risk-Management-for-Health-Systems/data/nepal/inputs/hazards/Global_earthquake_hazard_WB/pga_2475.tif\n"
     ]
    },
    {
     "name": "stderr",
     "output_type": "stream",
     "text": [
      "100%|██████████| 361/361 [00:01<00:00, 231.64it/s]\n"
     ]
    },
    {
     "name": "stdout",
     "output_type": "stream",
     "text": [
      "Processing historical file\n"
     ]
    },
    {
     "name": "stderr",
     "output_type": "stream",
     "text": [
      "100%|██████████| 361/361 [00:01<00:00, 230.91it/s]\n"
     ]
    }
   ],
   "source": [
    "# Processing Hazards task\n",
    "for task in hazards_task:\n",
    "    task_type = task['type']\n",
    "    task_historical = task['historical']\n",
    "    return_periods = task['return_periods']\n",
    "    substantial_damage = task['substantial_damage']\n",
    "    complete_destruction = task['complete_destruction']\n",
    "    input_path = f\"{base_directory}{task['source']}\"\n",
    "    output_path = f\"{base_directory}{task['destination']}\"\n",
    "\n",
    "    if task_historical:\n",
    "        txt_msg = f\"The file contents historical records for {task_type}\"\n",
    "        files = FileLister.list_files(input_path)\n",
    "        \n",
    "        try:\n",
    "            file = files[0]\n",
    "        except Exception as e:\n",
    "            txt_msg = f\"Error: '{e}'\"\n",
    "            logger.error(txt_msg)\n",
    "  \n",
    "            \n",
    "            \n",
    "        # Read valid files\n",
    "        file_name = file[0]\n",
    "        file_path = file[1]  \n",
    "            \n",
    "        txt_msg = f\"Processing historical file\"\n",
    "        print(txt_msg)\n",
    "        \n",
    "        # Transforming raster\n",
    "        gdf = FileProcessor.read_tif(file_path, 'polygon')\n",
    "        # Column damage generation\n",
    "        gdf = GeoDataFrameOperations.calculate_damage(gdf, substantial_damage, complete_destruction)\n",
    "        # Save file\n",
    "        output_name = f'{task_type}_historical.gpkg'\n",
    "        FileProcessor.save_to_geopackage(gdf, output_path, output_name)\n",
    "\n",
    "        \n",
    "    else:\n",
    "        txt_msg = f\"The file contents periodical records for {task_type}\"\n",
    "        files = FileLister.list_files(input_path)\n",
    "        valid_files = []\n",
    "        counters = 1\n",
    "        for period in return_periods:\n",
    "            validate_period = False\n",
    "            counters = 0\n",
    "            while not validate_period and counters <len(files):\n",
    "                if str(period) in files[counters][0]:\n",
    "                    validate_period = True\n",
    "                    valid_files.append([period, files[counters][0], files[counters][1]])\n",
    "                counters+=1\n",
    "        \n",
    "        if set(return_periods) != set([f[0] for f in valid_files]):\n",
    "            elements_not_in_set = set(return_periods)  - set([f[0] for f in valid_files])\n",
    "            txt_msg = f\"Some periods files not found {elements_not_in_set}\"\n",
    "            print(txt_msg)\n",
    "        else:\n",
    "            txt_msg = f\"All periods files found\"\n",
    "            print(txt_msg)\n",
    "            \n",
    "                    \n",
    "        # Read valid files \n",
    "        for file in valid_files:\n",
    "            file_period = file[0]\n",
    "            file_name = file[1]\n",
    "            file_path = file[2]\n",
    "            \n",
    "            txt_msg = f\"Processing period {file_period}: {file_name}\"\n",
    "            print(txt_msg)\n",
    "            \n",
    "            txt_msg = f\"{file_path}\"\n",
    "            print(txt_msg)\n",
    "            \n",
    "            # Transforming raster\n",
    "            gdf = FileProcessor.read_tif(file_path, 'polygon')\n",
    "            # Column damage generation\n",
    "            gdf = GeoDataFrameOperations.calculate_damage(gdf, substantial_damage, complete_destruction)\n",
    "            # print(gdf['value'].sum())\n",
    "            # Save file\n",
    "            output_name = f'{task_type}_period_{file_period}.gpkg'\n",
    "            FileProcessor.save_to_geopackage(gdf, output_path, output_name)\n"
   ]
  },
  {
   "cell_type": "code",
   "execution_count": null,
   "metadata": {},
   "outputs": [],
   "source": []
  },
  {
   "cell_type": "code",
   "execution_count": null,
   "metadata": {},
   "outputs": [],
   "source": []
  },
  {
   "cell_type": "code",
   "execution_count": 9,
   "metadata": {},
   "outputs": [
    {
     "data": {
      "text/plain": [
       "'/Users/johnbarrera/Documents/Projects/world_bank/Climate-and-Disaster-Risk-Management-for-Health-Systems/data/nepal/outputs/'"
      ]
     },
     "execution_count": 9,
     "metadata": {},
     "output_type": "execute_result"
    }
   ],
   "source": [
    "\n",
    "output_files = f\"{base_directory}{config_data['output_files']}\"\n",
    "output_files\n"
   ]
  },
  {
   "cell_type": "markdown",
   "metadata": {},
   "source": [
    "### Population"
   ]
  },
  {
   "cell_type": "code",
   "execution_count": 20,
   "metadata": {},
   "outputs": [],
   "source": [
    "attribute = 'population'\n",
    "try :\n",
    "    population_task = config_data[attribute]\n",
    "except Exception as e:\n",
    "    population_task = None\n",
    "    txt_msg = f\"Atribute {str(e)} not found\"\n",
    "    logger.error(txt_msg)\n",
    "\n",
    "attribute_destinity = f\"{output_files}{attribute}/\"\n",
    "if not os.path.exists(attribute_destinity):\n",
    "    os.makedirs(attribute_destinity)"
   ]
  },
  {
   "cell_type": "code",
   "execution_count": 21,
   "metadata": {},
   "outputs": [
    {
     "name": "stdout",
     "output_type": "stream",
     "text": [
      "INFO: Processing population file: /Users/johnbarrera/Documents/Projects/world_bank/Climate-and-Disaster-Risk-Management-for-Health-Systems/data/nepal/inputs/popu/nepal_npl_ct_popu_pop_sp_py_GHS_2023_p_u_Clipped_E2020_Nepal_4326.tif\n"
     ]
    },
    {
     "name": "stderr",
     "output_type": "stream",
     "text": [
      "100%|██████████| 4919/4919 [01:33<00:00, 52.46it/s] \n"
     ]
    },
    {
     "name": "stdout",
     "output_type": "stream",
     "text": [
      "INFO: Successfully file processed\n"
     ]
    }
   ],
   "source": [
    "# Processing Population task\n",
    "for task in population_task:\n",
    "    task_type = task['name']\n",
    "    input_path = f\"{base_directory}{task['source']}\"\n",
    "    txt_msg = f\"Processing population file: {input_path}\"\n",
    "    logger.info(txt_msg)\n",
    "    \n",
    "    # Transforming raster\n",
    "    try:\n",
    "        gdf = FileProcessor.read_tif(input_path, 'polygon')\n",
    "        gdf.columns = ['band', 'population', 'geometry']\n",
    "        gdf = gdf[['population', 'geometry']]\n",
    "        # gdf['geometry'] = gdf.geometry.centroid\n",
    "    except Exception as e:\n",
    "        txt_msg = f\"{str(e)}\"\n",
    "        logger.error(txt_msg)       \n",
    "    \n",
    "    # Saving file\n",
    "    try:\n",
    "        output_name = f'{task_type}.gpkg'\n",
    "        FileProcessor.save_to_geopackage(gdf, attribute_destinity, output_name)\n",
    "        txt_msg = f\"Successfully file processed\"\n",
    "        logger.info(txt_msg)\n",
    "    except Exception as e:\n",
    "        txt_msg = f\"{str(e)}\"\n",
    "        logger.error(txt_msg) \n"
   ]
  },
  {
   "cell_type": "markdown",
   "metadata": {},
   "source": [
    "### Infrastructure"
   ]
  },
  {
   "cell_type": "code",
   "execution_count": 18,
   "metadata": {},
   "outputs": [],
   "source": [
    "attribute = 'infrastructures'\n",
    "try :\n",
    "    infrastructures_task = config_data[attribute]\n",
    "except Exception as e:\n",
    "    infrastructures_task = None\n",
    "    txt_msg = f\"Atribute {str(e)} not found\"\n",
    "    logger.error(txt_msg)\n",
    "\n",
    "attribute_destinity = f\"{output_files}{attribute}/\"\n",
    "if not os.path.exists(attribute_destinity):\n",
    "    os.makedirs(attribute_destinity)\n",
    "\n"
   ]
  },
  {
   "cell_type": "code",
   "execution_count": 19,
   "metadata": {},
   "outputs": [
    {
     "name": "stdout",
     "output_type": "stream",
     "text": [
      "INFO: Processing population file: /Users/johnbarrera/Documents/Projects/world_bank/Climate-and-Disaster-Risk-Management-for-Health-Systems/data/nepal/inputs/heal/nepal_npl_ct_heal_heal_sp_tab_NDRRNA_14022024.gpkg\n",
      "INFO: Successfully file processed\n",
      "INFO: Processing population file: /Users/johnbarrera/Documents/Projects/world_bank/Climate-and-Disaster-Risk-Management-for-Health-Systems/data/nepal/inputs/heal/nepal_npl_ct_heal_heal_sp_tab_NDRRNA_14022024.gpkg\n",
      "INFO: Successfully file processed\n"
     ]
    }
   ],
   "source": [
    "# Processing Infrastructure task\n",
    "for task in infrastructures_task:\n",
    "    task_type = task['name']\n",
    "    task_filter= task['filter']\n",
    "    input_path = f\"{base_directory}{task['source']}\"\n",
    "    \n",
    "    txt_msg = f\"Processing population file: {input_path}\"\n",
    "    logger.info(txt_msg)\n",
    "    \n",
    "    # Transforming raster\n",
    "    try:\n",
    "        gdf = FileProcessor.read_geopackage(input_path)\n",
    "        if task_filter is not None:\n",
    "            for filter_str in task_filter:\n",
    "                gdf = gdf.query(filter_str)\n",
    "                gdf = gdf.reset_index(drop=True)\n",
    "    except Exception as e:\n",
    "        txt_msg = f\"{str(e)}\"\n",
    "        logger.error(txt_msg) \n",
    "            \n",
    "    # Saving file\n",
    "    try:\n",
    "        output_name = f'{task_type}_infrastructure.gpkg'\n",
    "        FileProcessor.save_to_geopackage(gdf, attribute_destinity, output_name)\n",
    "        txt_msg = f\"Successfully file processed\"\n",
    "        logger.info(txt_msg)\n",
    "    except Exception as e:\n",
    "        txt_msg = f\"{str(e)}\"\n",
    "        logger.error(txt_msg) \n",
    "    "
   ]
  },
  {
   "cell_type": "markdown",
   "metadata": {},
   "source": [
    "### Hazards"
   ]
  },
  {
   "cell_type": "code",
   "execution_count": 10,
   "metadata": {},
   "outputs": [],
   "source": [
    "attribute = 'hazards'\n",
    "try :\n",
    "    hazards_task = config_data[attribute]\n",
    "except Exception as e:\n",
    "    hazards_task = None\n",
    "    txt_msg = f\"Atribute {str(e)} not found\"\n",
    "    logger.error(txt_msg)\n",
    "\n",
    "attribute_destinity = f\"{output_files}{attribute}/\"\n",
    "if not os.path.exists(attribute_destinity):\n",
    "    os.makedirs(attribute_destinity)"
   ]
  },
  {
   "cell_type": "code",
   "execution_count": 11,
   "metadata": {},
   "outputs": [
    {
     "name": "stdout",
     "output_type": "stream",
     "text": [
      "{'name': 'earthquakes', 'source': 'data/nepal/inputs/hazards/Global_earthquake_hazard_WB/', 'map_unit': 'cm/s^2', 'return_periods': [475, 975, 1500, 2475], 'substantial_damage': 0.01, 'complete_destruction': None, 'destination': 'data/nepal/outputs/hazards/', 'historical': False}\n",
      "{'name': 'landslides', 'source': 'data/nepal/inputs/hazards/landslides/', 'map_unit': '', 'return_periods': None, 'substantial_damage': None, 'complete_destruction': None, 'destination': 'data/nepal/outputs/hazards/', 'historical': True}\n"
     ]
    }
   ],
   "source": [
    "# Processing Hazards task\n",
    "for task in hazards_task:\n",
    "    task_name = task['name']\n",
    "    task_historical = task['historical']\n",
    "    return_periods = task['return_periods']\n",
    "    substantial_damage = task['substantial_damage']\n",
    "    complete_destruction = task['complete_destruction']\n",
    "    input_path = f\"{base_directory}{task['source']}\"\n",
    "    \n",
    "    print(task)\n",
    "    if task_historical:\n",
    "        txt_msg = f\"The file contents historical records for {task_type}\"\n",
    "        files = FileLister.list_files(input_path)\n",
    "        \n",
    "        # Read valid files\n",
    "        try:     \n",
    "            file = files[0]\n",
    "            file_name = file[0]\n",
    "            file_path = file[1]  \n",
    "        except Exception as e:\n",
    "            txt_msg = f\"Error: '{e}'\"\n",
    "            logger.error(txt_msg)\n",
    "\n",
    "         # Saving file\n",
    "        try:\n",
    "            output_name = f'{task_type}.gpkg'\n",
    "            FileProcessor.save_to_geopackage(gdf, attribute_destinity, output_name)\n",
    "            txt_msg = f\"Successfully file processed\"\n",
    "            logger.info(txt_msg)\n",
    "        except Exception as e:\n",
    "            txt_msg = f\"{str(e)}\"\n",
    "            logger.error(txt_msg) \n",
    "                \n",
    "        \n",
    "            \n",
    "        txt_msg = f\"Processing historical file\"\n",
    "        print(txt_msg)\n",
    "        \n",
    "        # Transforming raster\n",
    "        gdf = FileProcessor.read_tif(file_path, 'polygon')\n",
    "        # Column damage generation\n",
    "        gdf = GeoDataFrameOperations.calculate_damage(gdf, substantial_damage, complete_destruction)\n",
    "        # Save file\n",
    "        output_name = f'{task_type}_historical.gpkg'\n",
    "        FileProcessor.save_to_geopackage(gdf, output_path, output_name)\n",
    "\n",
    "        "
   ]
  },
  {
   "cell_type": "code",
   "execution_count": null,
   "metadata": {},
   "outputs": [],
   "source": []
  },
  {
   "cell_type": "code",
   "execution_count": null,
   "metadata": {},
   "outputs": [],
   "source": []
  },
  {
   "cell_type": "markdown",
   "metadata": {},
   "source": [
    "### END"
   ]
  },
  {
   "cell_type": "code",
   "execution_count": 11,
   "metadata": {},
   "outputs": [
    {
     "data": {
      "text/plain": [
       "'/Users/johnbarrera/Documents/Projects/world_bank/Climate-and-Disaster-Risk-Management-for-Health-Systems/data/nepal/outputs/infrastructures/'"
      ]
     },
     "execution_count": 11,
     "metadata": {},
     "output_type": "execute_result"
    }
   ],
   "source": [
    "attribute_destinity"
   ]
  },
  {
   "cell_type": "code",
   "execution_count": 13,
   "metadata": {},
   "outputs": [
    {
     "data": {
      "text/html": [
       "<div>\n",
       "<style scoped>\n",
       "    .dataframe tbody tr th:only-of-type {\n",
       "        vertical-align: middle;\n",
       "    }\n",
       "\n",
       "    .dataframe tbody tr th {\n",
       "        vertical-align: top;\n",
       "    }\n",
       "\n",
       "    .dataframe thead th {\n",
       "        text-align: right;\n",
       "    }\n",
       "</style>\n",
       "<table border=\"1\" class=\"dataframe\">\n",
       "  <thead>\n",
       "    <tr style=\"text-align: right;\">\n",
       "      <th></th>\n",
       "      <th>GHFD_ID</th>\n",
       "      <th>HF_ID_N</th>\n",
       "      <th>HF_N_RO</th>\n",
       "      <th>HF_N_LOC</th>\n",
       "      <th>HF_T_RO</th>\n",
       "      <th>HF_T_LO</th>\n",
       "      <th>HF_OWN</th>\n",
       "      <th>HF_ADD_STR</th>\n",
       "      <th>HF_ADD_NO</th>\n",
       "      <th>HF_ADD_PC</th>\n",
       "      <th>...</th>\n",
       "      <th>S_COOR</th>\n",
       "      <th>M_COOR</th>\n",
       "      <th>AC_COOR</th>\n",
       "      <th>ADM1_C</th>\n",
       "      <th>ADM1_N_RO</th>\n",
       "      <th>ADM2_C</th>\n",
       "      <th>ADM2_N_RO</th>\n",
       "      <th>ADM3_C</th>\n",
       "      <th>ADM3_N_RO</th>\n",
       "      <th>geometry</th>\n",
       "    </tr>\n",
       "  </thead>\n",
       "  <tbody>\n",
       "    <tr>\n",
       "      <th>0</th>\n",
       "      <td>None</td>\n",
       "      <td>None</td>\n",
       "      <td>1,50,02,13,101</td>\n",
       "      <td>None</td>\n",
       "      <td>Health Post</td>\n",
       "      <td>None</td>\n",
       "      <td>None</td>\n",
       "      <td>None</td>\n",
       "      <td>None</td>\n",
       "      <td>None</td>\n",
       "      <td>...</td>\n",
       "      <td>NDRRNA</td>\n",
       "      <td>None</td>\n",
       "      <td>None</td>\n",
       "      <td>NPL-ADM1-38925275B99974579</td>\n",
       "      <td>Lumbini</td>\n",
       "      <td>NPL-ADM2-48590121B71411499</td>\n",
       "      <td>ARGHAKHANCHI</td>\n",
       "      <td>NPL-ADM3-92635248B26954669</td>\n",
       "      <td>Sandhikharka</td>\n",
       "      <td>POINT (83.09822 28.02166)</td>\n",
       "    </tr>\n",
       "    <tr>\n",
       "      <th>1</th>\n",
       "      <td>None</td>\n",
       "      <td>None</td>\n",
       "      <td>2,90,05,40,101</td>\n",
       "      <td>None</td>\n",
       "      <td>Hospital</td>\n",
       "      <td>None</td>\n",
       "      <td>None</td>\n",
       "      <td>None</td>\n",
       "      <td>None</td>\n",
       "      <td>None</td>\n",
       "      <td>...</td>\n",
       "      <td>NDRRNA</td>\n",
       "      <td>None</td>\n",
       "      <td>None</td>\n",
       "      <td>NPL-ADM1-38925275B3223679</td>\n",
       "      <td>Bagmati</td>\n",
       "      <td>NPL-ADM2-48590121B38233782</td>\n",
       "      <td>RASUWA</td>\n",
       "      <td>NPL-ADM3-92635248B80242974</td>\n",
       "      <td>Gosaikunda</td>\n",
       "      <td>POINT (85.29664 28.11224)</td>\n",
       "    </tr>\n",
       "    <tr>\n",
       "      <th>2</th>\n",
       "      <td>None</td>\n",
       "      <td>None</td>\n",
       "      <td>32 Dental Care</td>\n",
       "      <td>None</td>\n",
       "      <td>Dental Clinic</td>\n",
       "      <td>None</td>\n",
       "      <td>None</td>\n",
       "      <td>None</td>\n",
       "      <td>None</td>\n",
       "      <td>None</td>\n",
       "      <td>...</td>\n",
       "      <td>NDRRNA</td>\n",
       "      <td>None</td>\n",
       "      <td>None</td>\n",
       "      <td>NPL-ADM1-38925275B61643740</td>\n",
       "      <td>Gandaki</td>\n",
       "      <td>NPL-ADM2-48590121B48278102</td>\n",
       "      <td>KASKI</td>\n",
       "      <td>NPL-ADM3-92635248B52656349</td>\n",
       "      <td>Pokhara Lekhnath</td>\n",
       "      <td>POINT (84.05683 28.16277)</td>\n",
       "    </tr>\n",
       "    <tr>\n",
       "      <th>3</th>\n",
       "      <td>None</td>\n",
       "      <td>None</td>\n",
       "      <td>?? ??? ???????? ??????? ??? ????????? ??????</td>\n",
       "      <td>None</td>\n",
       "      <td>Hospital</td>\n",
       "      <td>None</td>\n",
       "      <td>None</td>\n",
       "      <td>None</td>\n",
       "      <td>None</td>\n",
       "      <td>None</td>\n",
       "      <td>...</td>\n",
       "      <td>NDRRNA</td>\n",
       "      <td>None</td>\n",
       "      <td>None</td>\n",
       "      <td>NPL-ADM1-38925275B72368611</td>\n",
       "      <td>Province 1</td>\n",
       "      <td>NPL-ADM2-48590121B53695686</td>\n",
       "      <td>JHAPA</td>\n",
       "      <td>NPL-ADM3-92635248B18880049</td>\n",
       "      <td>Bhadrapur</td>\n",
       "      <td>POINT (88.08037 26.55999)</td>\n",
       "    </tr>\n",
       "    <tr>\n",
       "      <th>4</th>\n",
       "      <td>None</td>\n",
       "      <td>None</td>\n",
       "      <td>??? ????????</td>\n",
       "      <td>None</td>\n",
       "      <td>Veterinary</td>\n",
       "      <td>None</td>\n",
       "      <td>None</td>\n",
       "      <td>None</td>\n",
       "      <td>None</td>\n",
       "      <td>None</td>\n",
       "      <td>...</td>\n",
       "      <td>NDRRNA</td>\n",
       "      <td>None</td>\n",
       "      <td>None</td>\n",
       "      <td>NPL-ADM1-38925275B31954132</td>\n",
       "      <td>Province 2</td>\n",
       "      <td>NPL-ADM2-48590121B93826412</td>\n",
       "      <td>RAUTAHAT</td>\n",
       "      <td>NPL-ADM3-92635248B98783072</td>\n",
       "      <td>Rajdevi</td>\n",
       "      <td>POINT (85.30761 26.76909)</td>\n",
       "    </tr>\n",
       "    <tr>\n",
       "      <th>...</th>\n",
       "      <td>...</td>\n",
       "      <td>...</td>\n",
       "      <td>...</td>\n",
       "      <td>...</td>\n",
       "      <td>...</td>\n",
       "      <td>...</td>\n",
       "      <td>...</td>\n",
       "      <td>...</td>\n",
       "      <td>...</td>\n",
       "      <td>...</td>\n",
       "      <td>...</td>\n",
       "      <td>...</td>\n",
       "      <td>...</td>\n",
       "      <td>...</td>\n",
       "      <td>...</td>\n",
       "      <td>...</td>\n",
       "      <td>...</td>\n",
       "      <td>...</td>\n",
       "      <td>...</td>\n",
       "      <td>...</td>\n",
       "      <td>...</td>\n",
       "    </tr>\n",
       "    <tr>\n",
       "      <th>6658</th>\n",
       "      <td>None</td>\n",
       "      <td>None</td>\n",
       "      <td>unani aushadhalaya</td>\n",
       "      <td>None</td>\n",
       "      <td>Pharmacy</td>\n",
       "      <td>None</td>\n",
       "      <td>None</td>\n",
       "      <td>None</td>\n",
       "      <td>None</td>\n",
       "      <td>None</td>\n",
       "      <td>...</td>\n",
       "      <td>NDRRNA</td>\n",
       "      <td>None</td>\n",
       "      <td>None</td>\n",
       "      <td>NPL-ADM1-38925275B3223679</td>\n",
       "      <td>Bagmati</td>\n",
       "      <td>NPL-ADM2-48590121B68869127</td>\n",
       "      <td>LALITPUR</td>\n",
       "      <td>NPL-ADM3-92635248B95483039</td>\n",
       "      <td>Lalitpur</td>\n",
       "      <td>POINT (85.31507 27.68067)</td>\n",
       "    </tr>\n",
       "    <tr>\n",
       "      <th>6659</th>\n",
       "      <td>None</td>\n",
       "      <td>None</td>\n",
       "      <td>unique collage of medecal science and hospital</td>\n",
       "      <td>None</td>\n",
       "      <td>Hospital</td>\n",
       "      <td>None</td>\n",
       "      <td>None</td>\n",
       "      <td>None</td>\n",
       "      <td>None</td>\n",
       "      <td>None</td>\n",
       "      <td>...</td>\n",
       "      <td>NDRRNA</td>\n",
       "      <td>None</td>\n",
       "      <td>None</td>\n",
       "      <td>NPL-ADM1-38925275B31954132</td>\n",
       "      <td>Province 2</td>\n",
       "      <td>NPL-ADM2-48590121B79767844</td>\n",
       "      <td>SAPTARI</td>\n",
       "      <td>NPL-ADM3-92635248B77151568</td>\n",
       "      <td>Rupani</td>\n",
       "      <td>POINT (86.72266 26.59899)</td>\n",
       "    </tr>\n",
       "    <tr>\n",
       "      <th>6660</th>\n",
       "      <td>None</td>\n",
       "      <td>None</td>\n",
       "      <td>veterinary clinic</td>\n",
       "      <td>None</td>\n",
       "      <td>Veterinary</td>\n",
       "      <td>None</td>\n",
       "      <td>None</td>\n",
       "      <td>None</td>\n",
       "      <td>None</td>\n",
       "      <td>None</td>\n",
       "      <td>...</td>\n",
       "      <td>NDRRNA</td>\n",
       "      <td>None</td>\n",
       "      <td>None</td>\n",
       "      <td>NPL-ADM1-38925275B3223679</td>\n",
       "      <td>Bagmati</td>\n",
       "      <td>NPL-ADM2-48590121B82193346</td>\n",
       "      <td>KATHMANDU</td>\n",
       "      <td>NPL-ADM3-92635248B7890871</td>\n",
       "      <td>Kathmandu</td>\n",
       "      <td>POINT (85.34854 27.69868)</td>\n",
       "    </tr>\n",
       "    <tr>\n",
       "      <th>6661</th>\n",
       "      <td>None</td>\n",
       "      <td>None</td>\n",
       "      <td>अस्पताल</td>\n",
       "      <td>None</td>\n",
       "      <td>Other</td>\n",
       "      <td>None</td>\n",
       "      <td>None</td>\n",
       "      <td>None</td>\n",
       "      <td>None</td>\n",
       "      <td>None</td>\n",
       "      <td>...</td>\n",
       "      <td>NDRRNA</td>\n",
       "      <td>None</td>\n",
       "      <td>None</td>\n",
       "      <td>NPL-ADM1-38925275B99974579</td>\n",
       "      <td>Lumbini</td>\n",
       "      <td>NPL-ADM2-48590121B71411499</td>\n",
       "      <td>ARGHAKHANCHI</td>\n",
       "      <td>NPL-ADM3-92635248B78015542</td>\n",
       "      <td>Sitganga</td>\n",
       "      <td>POINT (83.05293 27.88568)</td>\n",
       "    </tr>\n",
       "    <tr>\n",
       "      <th>6662</th>\n",
       "      <td>None</td>\n",
       "      <td>None</td>\n",
       "      <td>�kha Hospital</td>\n",
       "      <td>None</td>\n",
       "      <td>doctors</td>\n",
       "      <td>None</td>\n",
       "      <td>None</td>\n",
       "      <td>None</td>\n",
       "      <td>None</td>\n",
       "      <td>None</td>\n",
       "      <td>...</td>\n",
       "      <td>NDRRNA</td>\n",
       "      <td>None</td>\n",
       "      <td>None</td>\n",
       "      <td>NPL-ADM1-38925275B99974579</td>\n",
       "      <td>Lumbini</td>\n",
       "      <td>NPL-ADM2-48590121B99733197</td>\n",
       "      <td>DANG</td>\n",
       "      <td>NPL-ADM3-92635248B35491843</td>\n",
       "      <td>Lamahi</td>\n",
       "      <td>POINT (82.50964 27.87458)</td>\n",
       "    </tr>\n",
       "  </tbody>\n",
       "</table>\n",
       "<p>6663 rows × 23 columns</p>\n",
       "</div>"
      ],
      "text/plain": [
       "     GHFD_ID HF_ID_N                                         HF_N_RO HF_N_LOC  \\\n",
       "0       None    None                                  1,50,02,13,101     None   \n",
       "1       None    None                                  2,90,05,40,101     None   \n",
       "2       None    None                                  32 Dental Care     None   \n",
       "3       None    None    ?? ??? ???????? ??????? ??? ????????? ??????     None   \n",
       "4       None    None                                    ??? ????????     None   \n",
       "...      ...     ...                                             ...      ...   \n",
       "6658    None    None                              unani aushadhalaya     None   \n",
       "6659    None    None  unique collage of medecal science and hospital     None   \n",
       "6660    None    None                               veterinary clinic     None   \n",
       "6661    None    None                                         अस्पताल     None   \n",
       "6662    None    None                                   �kha Hospital     None   \n",
       "\n",
       "            HF_T_RO HF_T_LO HF_OWN HF_ADD_STR HF_ADD_NO HF_ADD_PC  ...  \\\n",
       "0       Health Post    None   None       None      None      None  ...   \n",
       "1          Hospital    None   None       None      None      None  ...   \n",
       "2     Dental Clinic    None   None       None      None      None  ...   \n",
       "3          Hospital    None   None       None      None      None  ...   \n",
       "4        Veterinary    None   None       None      None      None  ...   \n",
       "...             ...     ...    ...        ...       ...       ...  ...   \n",
       "6658       Pharmacy    None   None       None      None      None  ...   \n",
       "6659       Hospital    None   None       None      None      None  ...   \n",
       "6660     Veterinary    None   None       None      None      None  ...   \n",
       "6661          Other    None   None       None      None      None  ...   \n",
       "6662        doctors    None   None       None      None      None  ...   \n",
       "\n",
       "      S_COOR  M_COOR  AC_COOR                      ADM1_C   ADM1_N_RO  \\\n",
       "0     NDRRNA    None     None  NPL-ADM1-38925275B99974579     Lumbini   \n",
       "1     NDRRNA    None     None   NPL-ADM1-38925275B3223679     Bagmati   \n",
       "2     NDRRNA    None     None  NPL-ADM1-38925275B61643740     Gandaki   \n",
       "3     NDRRNA    None     None  NPL-ADM1-38925275B72368611  Province 1   \n",
       "4     NDRRNA    None     None  NPL-ADM1-38925275B31954132  Province 2   \n",
       "...      ...     ...      ...                         ...         ...   \n",
       "6658  NDRRNA    None     None   NPL-ADM1-38925275B3223679     Bagmati   \n",
       "6659  NDRRNA    None     None  NPL-ADM1-38925275B31954132  Province 2   \n",
       "6660  NDRRNA    None     None   NPL-ADM1-38925275B3223679     Bagmati   \n",
       "6661  NDRRNA    None     None  NPL-ADM1-38925275B99974579     Lumbini   \n",
       "6662  NDRRNA    None     None  NPL-ADM1-38925275B99974579     Lumbini   \n",
       "\n",
       "                          ADM2_C     ADM2_N_RO                      ADM3_C  \\\n",
       "0     NPL-ADM2-48590121B71411499  ARGHAKHANCHI  NPL-ADM3-92635248B26954669   \n",
       "1     NPL-ADM2-48590121B38233782        RASUWA  NPL-ADM3-92635248B80242974   \n",
       "2     NPL-ADM2-48590121B48278102         KASKI  NPL-ADM3-92635248B52656349   \n",
       "3     NPL-ADM2-48590121B53695686         JHAPA  NPL-ADM3-92635248B18880049   \n",
       "4     NPL-ADM2-48590121B93826412      RAUTAHAT  NPL-ADM3-92635248B98783072   \n",
       "...                          ...           ...                         ...   \n",
       "6658  NPL-ADM2-48590121B68869127      LALITPUR  NPL-ADM3-92635248B95483039   \n",
       "6659  NPL-ADM2-48590121B79767844       SAPTARI  NPL-ADM3-92635248B77151568   \n",
       "6660  NPL-ADM2-48590121B82193346     KATHMANDU   NPL-ADM3-92635248B7890871   \n",
       "6661  NPL-ADM2-48590121B71411499  ARGHAKHANCHI  NPL-ADM3-92635248B78015542   \n",
       "6662  NPL-ADM2-48590121B99733197          DANG  NPL-ADM3-92635248B35491843   \n",
       "\n",
       "             ADM3_N_RO                   geometry  \n",
       "0         Sandhikharka  POINT (83.09822 28.02166)  \n",
       "1           Gosaikunda  POINT (85.29664 28.11224)  \n",
       "2     Pokhara Lekhnath  POINT (84.05683 28.16277)  \n",
       "3            Bhadrapur  POINT (88.08037 26.55999)  \n",
       "4              Rajdevi  POINT (85.30761 26.76909)  \n",
       "...                ...                        ...  \n",
       "6658          Lalitpur  POINT (85.31507 27.68067)  \n",
       "6659            Rupani  POINT (86.72266 26.59899)  \n",
       "6660         Kathmandu  POINT (85.34854 27.69868)  \n",
       "6661          Sitganga  POINT (83.05293 27.88568)  \n",
       "6662            Lamahi  POINT (82.50964 27.87458)  \n",
       "\n",
       "[6663 rows x 23 columns]"
      ]
     },
     "execution_count": 13,
     "metadata": {},
     "output_type": "execute_result"
    }
   ],
   "source": [
    "gdf"
   ]
  },
  {
   "cell_type": "code",
   "execution_count": 15,
   "metadata": {},
   "outputs": [
    {
     "ename": "DriverError",
     "evalue": "sqlite3_open(/Users/johnbarrera/Documents/Projects/world_bank/Climate-and-Disaster-Risk-Management-for-Health-Systems/data/nepal/outputs/infrastructures/healt_facilities_infrastructure.gpkg) failed: unable to open database file",
     "output_type": "error",
     "traceback": [
      "\u001b[0;31m---------------------------------------------------------------------------\u001b[0m",
      "\u001b[0;31mCPLE_OpenFailedError\u001b[0m                      Traceback (most recent call last)",
      "File \u001b[0;32mfiona/ogrext.pyx:175\u001b[0m, in \u001b[0;36mfiona.ogrext.gdal_create\u001b[0;34m()\u001b[0m\n",
      "File \u001b[0;32mfiona/_err.pyx:291\u001b[0m, in \u001b[0;36mfiona._err.exc_wrap_pointer\u001b[0;34m()\u001b[0m\n",
      "\u001b[0;31mCPLE_OpenFailedError\u001b[0m: sqlite3_open(/Users/johnbarrera/Documents/Projects/world_bank/Climate-and-Disaster-Risk-Management-for-Health-Systems/data/nepal/outputs/infrastructures/healt_facilities_infrastructure.gpkg) failed: unable to open database file",
      "\nDuring handling of the above exception, another exception occurred:\n",
      "\u001b[0;31mDriverError\u001b[0m                               Traceback (most recent call last)",
      "Cell \u001b[0;32mIn[15], line 2\u001b[0m\n\u001b[1;32m      1\u001b[0m output_path \u001b[38;5;241m=\u001b[39m \u001b[38;5;124mf\u001b[39m\u001b[38;5;124m\"\u001b[39m\u001b[38;5;132;01m{\u001b[39;00mattribute_destinity\u001b[38;5;132;01m}\u001b[39;00m\u001b[38;5;132;01m{\u001b[39;00moutput_name\u001b[38;5;132;01m}\u001b[39;00m\u001b[38;5;124m\"\u001b[39m\n\u001b[0;32m----> 2\u001b[0m \u001b[43mgdf\u001b[49m\u001b[38;5;241;43m.\u001b[39;49m\u001b[43mto_file\u001b[49m\u001b[43m(\u001b[49m\u001b[43moutput_path\u001b[49m\u001b[43m,\u001b[49m\u001b[43m \u001b[49m\u001b[43mlayer\u001b[49m\u001b[38;5;241;43m=\u001b[39;49m\u001b[38;5;28;43;01mNone\u001b[39;49;00m\u001b[43m,\u001b[49m\u001b[43m \u001b[49m\u001b[43mdriver\u001b[49m\u001b[38;5;241;43m=\u001b[39;49m\u001b[38;5;124;43m\"\u001b[39;49m\u001b[38;5;124;43mGPKG\u001b[39;49m\u001b[38;5;124;43m\"\u001b[39;49m\u001b[43m)\u001b[49m\n",
      "File \u001b[0;32m~/Documents/Projects/world_bank/Climate-and-Disaster-Risk-Management-for-Health-Systems/python3_enviroment/lib/python3.10/site-packages/geopandas/geodataframe.py:1246\u001b[0m, in \u001b[0;36mGeoDataFrame.to_file\u001b[0;34m(self, filename, driver, schema, index, **kwargs)\u001b[0m\n\u001b[1;32m   1155\u001b[0m \u001b[38;5;250m\u001b[39m\u001b[38;5;124;03m\"\"\"Write the ``GeoDataFrame`` to a file.\u001b[39;00m\n\u001b[1;32m   1156\u001b[0m \n\u001b[1;32m   1157\u001b[0m \u001b[38;5;124;03mBy default, an ESRI shapefile is written, but any OGR data source\u001b[39;00m\n\u001b[0;32m   (...)\u001b[0m\n\u001b[1;32m   1242\u001b[0m \n\u001b[1;32m   1243\u001b[0m \u001b[38;5;124;03m\"\"\"\u001b[39;00m\n\u001b[1;32m   1244\u001b[0m \u001b[38;5;28;01mfrom\u001b[39;00m \u001b[38;5;21;01mgeopandas\u001b[39;00m\u001b[38;5;21;01m.\u001b[39;00m\u001b[38;5;21;01mio\u001b[39;00m\u001b[38;5;21;01m.\u001b[39;00m\u001b[38;5;21;01mfile\u001b[39;00m \u001b[38;5;28;01mimport\u001b[39;00m _to_file\n\u001b[0;32m-> 1246\u001b[0m \u001b[43m_to_file\u001b[49m\u001b[43m(\u001b[49m\u001b[38;5;28;43mself\u001b[39;49m\u001b[43m,\u001b[49m\u001b[43m \u001b[49m\u001b[43mfilename\u001b[49m\u001b[43m,\u001b[49m\u001b[43m \u001b[49m\u001b[43mdriver\u001b[49m\u001b[43m,\u001b[49m\u001b[43m \u001b[49m\u001b[43mschema\u001b[49m\u001b[43m,\u001b[49m\u001b[43m \u001b[49m\u001b[43mindex\u001b[49m\u001b[43m,\u001b[49m\u001b[43m \u001b[49m\u001b[38;5;241;43m*\u001b[39;49m\u001b[38;5;241;43m*\u001b[39;49m\u001b[43mkwargs\u001b[49m\u001b[43m)\u001b[49m\n",
      "File \u001b[0;32m~/Documents/Projects/world_bank/Climate-and-Disaster-Risk-Management-for-Health-Systems/python3_enviroment/lib/python3.10/site-packages/geopandas/io/file.py:633\u001b[0m, in \u001b[0;36m_to_file\u001b[0;34m(df, filename, driver, schema, index, mode, crs, engine, **kwargs)\u001b[0m\n\u001b[1;32m    630\u001b[0m     \u001b[38;5;28;01mraise\u001b[39;00m \u001b[38;5;167;01mValueError\u001b[39;00m(\u001b[38;5;124mf\u001b[39m\u001b[38;5;124m\"\u001b[39m\u001b[38;5;124m'\u001b[39m\u001b[38;5;124mmode\u001b[39m\u001b[38;5;124m'\u001b[39m\u001b[38;5;124m should be one of \u001b[39m\u001b[38;5;124m'\u001b[39m\u001b[38;5;124mw\u001b[39m\u001b[38;5;124m'\u001b[39m\u001b[38;5;124m or \u001b[39m\u001b[38;5;124m'\u001b[39m\u001b[38;5;124ma\u001b[39m\u001b[38;5;124m'\u001b[39m\u001b[38;5;124m, got \u001b[39m\u001b[38;5;124m'\u001b[39m\u001b[38;5;132;01m{\u001b[39;00mmode\u001b[38;5;132;01m}\u001b[39;00m\u001b[38;5;124m'\u001b[39m\u001b[38;5;124m instead\u001b[39m\u001b[38;5;124m\"\u001b[39m)\n\u001b[1;32m    632\u001b[0m \u001b[38;5;28;01mif\u001b[39;00m engine \u001b[38;5;241m==\u001b[39m \u001b[38;5;124m\"\u001b[39m\u001b[38;5;124mfiona\u001b[39m\u001b[38;5;124m\"\u001b[39m:\n\u001b[0;32m--> 633\u001b[0m     \u001b[43m_to_file_fiona\u001b[49m\u001b[43m(\u001b[49m\u001b[43mdf\u001b[49m\u001b[43m,\u001b[49m\u001b[43m \u001b[49m\u001b[43mfilename\u001b[49m\u001b[43m,\u001b[49m\u001b[43m \u001b[49m\u001b[43mdriver\u001b[49m\u001b[43m,\u001b[49m\u001b[43m \u001b[49m\u001b[43mschema\u001b[49m\u001b[43m,\u001b[49m\u001b[43m \u001b[49m\u001b[43mcrs\u001b[49m\u001b[43m,\u001b[49m\u001b[43m \u001b[49m\u001b[43mmode\u001b[49m\u001b[43m,\u001b[49m\u001b[43m \u001b[49m\u001b[38;5;241;43m*\u001b[39;49m\u001b[38;5;241;43m*\u001b[39;49m\u001b[43mkwargs\u001b[49m\u001b[43m)\u001b[49m\n\u001b[1;32m    634\u001b[0m \u001b[38;5;28;01melif\u001b[39;00m engine \u001b[38;5;241m==\u001b[39m \u001b[38;5;124m\"\u001b[39m\u001b[38;5;124mpyogrio\u001b[39m\u001b[38;5;124m\"\u001b[39m:\n\u001b[1;32m    635\u001b[0m     _to_file_pyogrio(df, filename, driver, schema, crs, mode, \u001b[38;5;241m*\u001b[39m\u001b[38;5;241m*\u001b[39mkwargs)\n",
      "File \u001b[0;32m~/Documents/Projects/world_bank/Climate-and-Disaster-Risk-Management-for-Health-Systems/python3_enviroment/lib/python3.10/site-packages/geopandas/io/file.py:661\u001b[0m, in \u001b[0;36m_to_file_fiona\u001b[0;34m(df, filename, driver, schema, crs, mode, **kwargs)\u001b[0m\n\u001b[1;32m    659\u001b[0m \u001b[38;5;28;01melif\u001b[39;00m crs:\n\u001b[1;32m    660\u001b[0m     crs_wkt \u001b[38;5;241m=\u001b[39m crs\u001b[38;5;241m.\u001b[39mto_wkt(\u001b[38;5;124m\"\u001b[39m\u001b[38;5;124mWKT1_GDAL\u001b[39m\u001b[38;5;124m\"\u001b[39m)\n\u001b[0;32m--> 661\u001b[0m \u001b[38;5;28;01mwith\u001b[39;00m \u001b[43mfiona\u001b[49m\u001b[38;5;241;43m.\u001b[39;49m\u001b[43mopen\u001b[49m\u001b[43m(\u001b[49m\n\u001b[1;32m    662\u001b[0m \u001b[43m    \u001b[49m\u001b[43mfilename\u001b[49m\u001b[43m,\u001b[49m\u001b[43m \u001b[49m\u001b[43mmode\u001b[49m\u001b[38;5;241;43m=\u001b[39;49m\u001b[43mmode\u001b[49m\u001b[43m,\u001b[49m\u001b[43m \u001b[49m\u001b[43mdriver\u001b[49m\u001b[38;5;241;43m=\u001b[39;49m\u001b[43mdriver\u001b[49m\u001b[43m,\u001b[49m\u001b[43m \u001b[49m\u001b[43mcrs_wkt\u001b[49m\u001b[38;5;241;43m=\u001b[39;49m\u001b[43mcrs_wkt\u001b[49m\u001b[43m,\u001b[49m\u001b[43m \u001b[49m\u001b[43mschema\u001b[49m\u001b[38;5;241;43m=\u001b[39;49m\u001b[43mschema\u001b[49m\u001b[43m,\u001b[49m\u001b[43m \u001b[49m\u001b[38;5;241;43m*\u001b[39;49m\u001b[38;5;241;43m*\u001b[39;49m\u001b[43mkwargs\u001b[49m\n\u001b[1;32m    663\u001b[0m \u001b[43m\u001b[49m\u001b[43m)\u001b[49m \u001b[38;5;28;01mas\u001b[39;00m colxn:\n\u001b[1;32m    664\u001b[0m     colxn\u001b[38;5;241m.\u001b[39mwriterecords(df\u001b[38;5;241m.\u001b[39miterfeatures())\n",
      "File \u001b[0;32m~/Documents/Projects/world_bank/Climate-and-Disaster-Risk-Management-for-Health-Systems/python3_enviroment/lib/python3.10/site-packages/fiona/env.py:457\u001b[0m, in \u001b[0;36mensure_env_with_credentials.<locals>.wrapper\u001b[0;34m(*args, **kwds)\u001b[0m\n\u001b[1;32m    454\u001b[0m     session \u001b[38;5;241m=\u001b[39m DummySession()\n\u001b[1;32m    456\u001b[0m \u001b[38;5;28;01mwith\u001b[39;00m env_ctor(session\u001b[38;5;241m=\u001b[39msession):\n\u001b[0;32m--> 457\u001b[0m     \u001b[38;5;28;01mreturn\u001b[39;00m \u001b[43mf\u001b[49m\u001b[43m(\u001b[49m\u001b[38;5;241;43m*\u001b[39;49m\u001b[43margs\u001b[49m\u001b[43m,\u001b[49m\u001b[43m \u001b[49m\u001b[38;5;241;43m*\u001b[39;49m\u001b[38;5;241;43m*\u001b[39;49m\u001b[43mkwds\u001b[49m\u001b[43m)\u001b[49m\n",
      "File \u001b[0;32m~/Documents/Projects/world_bank/Climate-and-Disaster-Risk-Management-for-Health-Systems/python3_enviroment/lib/python3.10/site-packages/fiona/__init__.py:303\u001b[0m, in \u001b[0;36mopen\u001b[0;34m(fp, mode, driver, schema, crs, encoding, layer, vfs, enabled_drivers, crs_wkt, allow_unsupported_drivers, **kwargs)\u001b[0m\n\u001b[1;32m    292\u001b[0m     colxn \u001b[38;5;241m=\u001b[39m Collection(\n\u001b[1;32m    293\u001b[0m         path,\n\u001b[1;32m    294\u001b[0m         mode,\n\u001b[0;32m   (...)\u001b[0m\n\u001b[1;32m    300\u001b[0m         \u001b[38;5;241m*\u001b[39m\u001b[38;5;241m*\u001b[39mkwargs\n\u001b[1;32m    301\u001b[0m     )\n\u001b[1;32m    302\u001b[0m \u001b[38;5;28;01melif\u001b[39;00m mode \u001b[38;5;241m==\u001b[39m \u001b[38;5;124m\"\u001b[39m\u001b[38;5;124mw\u001b[39m\u001b[38;5;124m\"\u001b[39m:\n\u001b[0;32m--> 303\u001b[0m     colxn \u001b[38;5;241m=\u001b[39m \u001b[43mCollection\u001b[49m\u001b[43m(\u001b[49m\n\u001b[1;32m    304\u001b[0m \u001b[43m        \u001b[49m\u001b[43mpath\u001b[49m\u001b[43m,\u001b[49m\n\u001b[1;32m    305\u001b[0m \u001b[43m        \u001b[49m\u001b[43mmode\u001b[49m\u001b[43m,\u001b[49m\n\u001b[1;32m    306\u001b[0m \u001b[43m        \u001b[49m\u001b[43mcrs\u001b[49m\u001b[38;5;241;43m=\u001b[39;49m\u001b[43mcrs\u001b[49m\u001b[43m,\u001b[49m\n\u001b[1;32m    307\u001b[0m \u001b[43m        \u001b[49m\u001b[43mdriver\u001b[49m\u001b[38;5;241;43m=\u001b[39;49m\u001b[43mdriver\u001b[49m\u001b[43m,\u001b[49m\n\u001b[1;32m    308\u001b[0m \u001b[43m        \u001b[49m\u001b[43mschema\u001b[49m\u001b[38;5;241;43m=\u001b[39;49m\u001b[43mschema\u001b[49m\u001b[43m,\u001b[49m\n\u001b[1;32m    309\u001b[0m \u001b[43m        \u001b[49m\u001b[43mencoding\u001b[49m\u001b[38;5;241;43m=\u001b[39;49m\u001b[43mencoding\u001b[49m\u001b[43m,\u001b[49m\n\u001b[1;32m    310\u001b[0m \u001b[43m        \u001b[49m\u001b[43mlayer\u001b[49m\u001b[38;5;241;43m=\u001b[39;49m\u001b[43mlayer\u001b[49m\u001b[43m,\u001b[49m\n\u001b[1;32m    311\u001b[0m \u001b[43m        \u001b[49m\u001b[43menabled_drivers\u001b[49m\u001b[38;5;241;43m=\u001b[39;49m\u001b[43menabled_drivers\u001b[49m\u001b[43m,\u001b[49m\n\u001b[1;32m    312\u001b[0m \u001b[43m        \u001b[49m\u001b[43mcrs_wkt\u001b[49m\u001b[38;5;241;43m=\u001b[39;49m\u001b[43mcrs_wkt\u001b[49m\u001b[43m,\u001b[49m\n\u001b[1;32m    313\u001b[0m \u001b[43m        \u001b[49m\u001b[43mallow_unsupported_drivers\u001b[49m\u001b[38;5;241;43m=\u001b[39;49m\u001b[43mallow_unsupported_drivers\u001b[49m\u001b[43m,\u001b[49m\n\u001b[1;32m    314\u001b[0m \u001b[43m        \u001b[49m\u001b[38;5;241;43m*\u001b[39;49m\u001b[38;5;241;43m*\u001b[39;49m\u001b[43mkwargs\u001b[49m\n\u001b[1;32m    315\u001b[0m \u001b[43m    \u001b[49m\u001b[43m)\u001b[49m\n\u001b[1;32m    316\u001b[0m \u001b[38;5;28;01melse\u001b[39;00m:\n\u001b[1;32m    317\u001b[0m     \u001b[38;5;28;01mraise\u001b[39;00m \u001b[38;5;167;01mValueError\u001b[39;00m(\u001b[38;5;124m\"\u001b[39m\u001b[38;5;124mmode string must be one of \u001b[39m\u001b[38;5;124m{\u001b[39m\u001b[38;5;124m'\u001b[39m\u001b[38;5;124mr\u001b[39m\u001b[38;5;124m'\u001b[39m\u001b[38;5;124m, \u001b[39m\u001b[38;5;124m'\u001b[39m\u001b[38;5;124mw\u001b[39m\u001b[38;5;124m'\u001b[39m\u001b[38;5;124m, \u001b[39m\u001b[38;5;124m'\u001b[39m\u001b[38;5;124ma\u001b[39m\u001b[38;5;124m'\u001b[39m\u001b[38;5;124m}\u001b[39m\u001b[38;5;124m\"\u001b[39m)\n",
      "File \u001b[0;32m~/Documents/Projects/world_bank/Climate-and-Disaster-Risk-Management-for-Health-Systems/python3_enviroment/lib/python3.10/site-packages/fiona/collection.py:246\u001b[0m, in \u001b[0;36mCollection.__init__\u001b[0;34m(self, path, mode, driver, schema, crs, encoding, layer, vsi, archive, enabled_drivers, crs_wkt, ignore_fields, ignore_geometry, include_fields, wkt_version, allow_unsupported_drivers, **kwargs)\u001b[0m\n\u001b[1;32m    244\u001b[0m     \u001b[38;5;28;01melif\u001b[39;00m \u001b[38;5;28mself\u001b[39m\u001b[38;5;241m.\u001b[39mmode \u001b[38;5;129;01min\u001b[39;00m (\u001b[38;5;124m\"\u001b[39m\u001b[38;5;124ma\u001b[39m\u001b[38;5;124m\"\u001b[39m, \u001b[38;5;124m\"\u001b[39m\u001b[38;5;124mw\u001b[39m\u001b[38;5;124m\"\u001b[39m):\n\u001b[1;32m    245\u001b[0m         \u001b[38;5;28mself\u001b[39m\u001b[38;5;241m.\u001b[39msession \u001b[38;5;241m=\u001b[39m WritingSession()\n\u001b[0;32m--> 246\u001b[0m         \u001b[38;5;28;43mself\u001b[39;49m\u001b[38;5;241;43m.\u001b[39;49m\u001b[43msession\u001b[49m\u001b[38;5;241;43m.\u001b[39;49m\u001b[43mstart\u001b[49m\u001b[43m(\u001b[49m\u001b[38;5;28;43mself\u001b[39;49m\u001b[43m,\u001b[49m\u001b[43m \u001b[49m\u001b[38;5;241;43m*\u001b[39;49m\u001b[38;5;241;43m*\u001b[39;49m\u001b[43mkwargs\u001b[49m\u001b[43m)\u001b[49m\n\u001b[1;32m    247\u001b[0m \u001b[38;5;28;01mexcept\u001b[39;00m \u001b[38;5;167;01mOSError\u001b[39;00m:\n\u001b[1;32m    248\u001b[0m     \u001b[38;5;28mself\u001b[39m\u001b[38;5;241m.\u001b[39msession \u001b[38;5;241m=\u001b[39m \u001b[38;5;28;01mNone\u001b[39;00m\n",
      "File \u001b[0;32mfiona/ogrext.pyx:1110\u001b[0m, in \u001b[0;36mfiona.ogrext.WritingSession.start\u001b[0;34m()\u001b[0m\n",
      "File \u001b[0;32mfiona/ogrext.pyx:1111\u001b[0m, in \u001b[0;36mfiona.ogrext.WritingSession.start\u001b[0;34m()\u001b[0m\n",
      "File \u001b[0;32mfiona/ogrext.pyx:179\u001b[0m, in \u001b[0;36mfiona.ogrext.gdal_create\u001b[0;34m()\u001b[0m\n",
      "\u001b[0;31mDriverError\u001b[0m: sqlite3_open(/Users/johnbarrera/Documents/Projects/world_bank/Climate-and-Disaster-Risk-Management-for-Health-Systems/data/nepal/outputs/infrastructures/healt_facilities_infrastructure.gpkg) failed: unable to open database file"
     ]
    }
   ],
   "source": [
    "output_path = f\"{attribute_destinity}{output_name}\"\n",
    "gdf.to_file(output_path, layer=None, driver=\"GPKG\")"
   ]
  },
  {
   "cell_type": "code",
   "execution_count": 16,
   "metadata": {},
   "outputs": [
    {
     "data": {
      "text/plain": [
       "<Axes: >"
      ]
     },
     "execution_count": 16,
     "metadata": {},
     "output_type": "execute_result"
    },
    {
     "data": {
      "image/png": "[encoded data removed]",
      "text/plain": [
       "<Figure size 640x480 with 1 Axes>"
      ]
     },
     "metadata": {},
     "output_type": "display_data"
    }
   ],
   "source": [
    "gdf.plot()"
   ]
  },
  {
   "cell_type": "code",
   "execution_count": null,
   "metadata": {},
   "outputs": [],
   "source": []
  }
 ],
 "metadata": {
  "kernelspec": {
   "display_name": "python3_enviroment",
   "language": "python",
   "name": "python3"
  },
  "language_info": {
   "codemirror_mode": {
    "name": "ipython",
    "version": 3
   },
   "file_extension": ".py",
   "mimetype": "text/x-python",
   "name": "python",
   "nbconvert_exporter": "python",
   "pygments_lexer": "ipython3",
   "version": "3.10.11"
  }
 },
 "nbformat": 4,
 "nbformat_minor": 2
}
